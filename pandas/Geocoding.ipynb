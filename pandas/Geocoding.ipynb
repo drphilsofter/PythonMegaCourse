{
 "cells": [
  {
   "cell_type": "code",
   "execution_count": 3,
   "metadata": {
    "collapsed": true
   },
   "outputs": [],
   "source": [
    "import geopy"
   ]
  },
  {
   "cell_type": "code",
   "execution_count": 4,
   "metadata": {
    "collapsed": true
   },
   "outputs": [],
   "source": [
    "from geopy.geocoders import Nominatim"
   ]
  },
  {
   "cell_type": "code",
   "execution_count": 5,
   "metadata": {
    "collapsed": false
   },
   "outputs": [],
   "source": [
    "nom=Nominatim()"
   ]
  },
  {
   "cell_type": "code",
   "execution_count": 56,
   "metadata": {
    "collapsed": false
   },
   "outputs": [],
   "source": [
    "n=nom.geocode(\"McPhail Avenue, Kingscliff, 2487\", timeout=10)"
   ]
  },
  {
   "cell_type": "code",
   "execution_count": 57,
   "metadata": {
    "collapsed": false
   },
   "outputs": [
    {
     "data": {
      "text/plain": [
       "geopy.location.Location"
      ]
     },
     "execution_count": 57,
     "metadata": {},
     "output_type": "execute_result"
    }
   ],
   "source": [
    "type(n)"
   ]
  },
  {
   "cell_type": "code",
   "execution_count": 24,
   "metadata": {
    "collapsed": false
   },
   "outputs": [
    {
     "data": {
      "text/plain": [
       "-28.2618291"
      ]
     },
     "execution_count": 24,
     "metadata": {},
     "output_type": "execute_result"
    }
   ],
   "source": [
    "n.latitude"
   ]
  },
  {
   "cell_type": "code",
   "execution_count": 25,
   "metadata": {
    "collapsed": false
   },
   "outputs": [
    {
     "data": {
      "text/plain": [
       "153.5736792"
      ]
     },
     "execution_count": 25,
     "metadata": {},
     "output_type": "execute_result"
    }
   ],
   "source": [
    "n.longitude"
   ]
  },
  {
   "cell_type": "code",
   "execution_count": 26,
   "metadata": {
    "collapsed": true
   },
   "outputs": [],
   "source": [
    "import pandas"
   ]
  },
  {
   "cell_type": "code",
   "execution_count": 67,
   "metadata": {
    "collapsed": false
   },
   "outputs": [
    {
     "data": {
      "text/html": [
       "<div>\n",
       "<style>\n",
       "    .dataframe thead tr:only-child th {\n",
       "        text-align: right;\n",
       "    }\n",
       "\n",
       "    .dataframe thead th {\n",
       "        text-align: left;\n",
       "    }\n",
       "\n",
       "    .dataframe tbody tr th {\n",
       "        vertical-align: top;\n",
       "    }\n",
       "</style>\n",
       "<table border=\"1\" class=\"dataframe\">\n",
       "  <thead>\n",
       "    <tr style=\"text-align: right;\">\n",
       "      <th></th>\n",
       "      <th>ID</th>\n",
       "      <th>Street</th>\n",
       "      <th>Suburb</th>\n",
       "      <th>Shire</th>\n",
       "      <th>Country</th>\n",
       "    </tr>\n",
       "  </thead>\n",
       "  <tbody>\n",
       "    <tr>\n",
       "      <th>0</th>\n",
       "      <td>1</td>\n",
       "      <td>McPhail Ave</td>\n",
       "      <td>Kingscliff</td>\n",
       "      <td>Tweed 2487</td>\n",
       "      <td>Australia</td>\n",
       "    </tr>\n",
       "    <tr>\n",
       "      <th>1</th>\n",
       "      <td>2</td>\n",
       "      <td>Eviron Rd</td>\n",
       "      <td>Eviron</td>\n",
       "      <td>Tweed 2484</td>\n",
       "      <td>Australia</td>\n",
       "    </tr>\n",
       "    <tr>\n",
       "      <th>2</th>\n",
       "      <td>3</td>\n",
       "      <td>Gilcrest Court</td>\n",
       "      <td>Molendinar</td>\n",
       "      <td>Gold Coast 4214</td>\n",
       "      <td>Australia</td>\n",
       "    </tr>\n",
       "    <tr>\n",
       "      <th>3</th>\n",
       "      <td>4</td>\n",
       "      <td>Respall Way</td>\n",
       "      <td>Arundel</td>\n",
       "      <td>Gold Coast 4214</td>\n",
       "      <td>Australia</td>\n",
       "    </tr>\n",
       "    <tr>\n",
       "      <th>4</th>\n",
       "      <td>5</td>\n",
       "      <td>Dellwood Circuit</td>\n",
       "      <td>Molendinar</td>\n",
       "      <td>Gold Coast 4214</td>\n",
       "      <td>Australia</td>\n",
       "    </tr>\n",
       "  </tbody>\n",
       "</table>\n",
       "</div>"
      ],
      "text/plain": [
       "   ID            Street      Suburb            Shire    Country\n",
       "0   1       McPhail Ave  Kingscliff       Tweed 2487  Australia\n",
       "1   2         Eviron Rd      Eviron       Tweed 2484  Australia\n",
       "2   3    Gilcrest Court  Molendinar  Gold Coast 4214  Australia\n",
       "3   4       Respall Way     Arundel  Gold Coast 4214  Australia\n",
       "4   5  Dellwood Circuit  Molendinar  Gold Coast 4214  Australia"
      ]
     },
     "execution_count": 67,
     "metadata": {},
     "output_type": "execute_result"
    }
   ],
   "source": [
    "lived = pandas.read_csv('lived.csv')\n",
    "lived"
   ]
  },
  {
   "cell_type": "code",
   "execution_count": 68,
   "metadata": {
    "collapsed": false
   },
   "outputs": [
    {
     "data": {
      "text/html": [
       "<div>\n",
       "<style>\n",
       "    .dataframe thead tr:only-child th {\n",
       "        text-align: right;\n",
       "    }\n",
       "\n",
       "    .dataframe thead th {\n",
       "        text-align: left;\n",
       "    }\n",
       "\n",
       "    .dataframe tbody tr th {\n",
       "        vertical-align: top;\n",
       "    }\n",
       "</style>\n",
       "<table border=\"1\" class=\"dataframe\">\n",
       "  <thead>\n",
       "    <tr style=\"text-align: right;\">\n",
       "      <th></th>\n",
       "      <th>ID</th>\n",
       "      <th>Street</th>\n",
       "      <th>Suburb</th>\n",
       "      <th>Shire</th>\n",
       "      <th>Country</th>\n",
       "      <th>Full Address</th>\n",
       "    </tr>\n",
       "  </thead>\n",
       "  <tbody>\n",
       "    <tr>\n",
       "      <th>0</th>\n",
       "      <td>1</td>\n",
       "      <td>McPhail Ave</td>\n",
       "      <td>Kingscliff</td>\n",
       "      <td>Tweed 2487</td>\n",
       "      <td>Australia</td>\n",
       "      <td>McPhail Ave, Kingscliff, Tweed 2487, Australia</td>\n",
       "    </tr>\n",
       "    <tr>\n",
       "      <th>1</th>\n",
       "      <td>2</td>\n",
       "      <td>Eviron Rd</td>\n",
       "      <td>Eviron</td>\n",
       "      <td>Tweed 2484</td>\n",
       "      <td>Australia</td>\n",
       "      <td>Eviron Rd, Eviron, Tweed 2484, Australia</td>\n",
       "    </tr>\n",
       "    <tr>\n",
       "      <th>2</th>\n",
       "      <td>3</td>\n",
       "      <td>Gilcrest Court</td>\n",
       "      <td>Molendinar</td>\n",
       "      <td>Gold Coast 4214</td>\n",
       "      <td>Australia</td>\n",
       "      <td>Gilcrest Court, Molendinar, Gold Coast 4214, A...</td>\n",
       "    </tr>\n",
       "    <tr>\n",
       "      <th>3</th>\n",
       "      <td>4</td>\n",
       "      <td>Respall Way</td>\n",
       "      <td>Arundel</td>\n",
       "      <td>Gold Coast 4214</td>\n",
       "      <td>Australia</td>\n",
       "      <td>Respall Way, Arundel, Gold Coast 4214, Australia</td>\n",
       "    </tr>\n",
       "    <tr>\n",
       "      <th>4</th>\n",
       "      <td>5</td>\n",
       "      <td>Dellwood Circuit</td>\n",
       "      <td>Molendinar</td>\n",
       "      <td>Gold Coast 4214</td>\n",
       "      <td>Australia</td>\n",
       "      <td>Dellwood Circuit, Molendinar, Gold Coast 4214,...</td>\n",
       "    </tr>\n",
       "  </tbody>\n",
       "</table>\n",
       "</div>"
      ],
      "text/plain": [
       "   ID            Street      Suburb            Shire    Country  \\\n",
       "0   1       McPhail Ave  Kingscliff       Tweed 2487  Australia   \n",
       "1   2         Eviron Rd      Eviron       Tweed 2484  Australia   \n",
       "2   3    Gilcrest Court  Molendinar  Gold Coast 4214  Australia   \n",
       "3   4       Respall Way     Arundel  Gold Coast 4214  Australia   \n",
       "4   5  Dellwood Circuit  Molendinar  Gold Coast 4214  Australia   \n",
       "\n",
       "                                        Full Address  \n",
       "0     McPhail Ave, Kingscliff, Tweed 2487, Australia  \n",
       "1           Eviron Rd, Eviron, Tweed 2484, Australia  \n",
       "2  Gilcrest Court, Molendinar, Gold Coast 4214, A...  \n",
       "3   Respall Way, Arundel, Gold Coast 4214, Australia  \n",
       "4  Dellwood Circuit, Molendinar, Gold Coast 4214,...  "
      ]
     },
     "execution_count": 68,
     "metadata": {},
     "output_type": "execute_result"
    }
   ],
   "source": [
    "lived['Full Address'] = lived['Street']+', '+lived['Suburb']+', '+lived['Shire']+', '+lived['Country']\n",
    "lived"
   ]
  },
  {
   "cell_type": "code",
   "execution_count": 69,
   "metadata": {
    "collapsed": false
   },
   "outputs": [],
   "source": [
    "lived['Coordinates'] = lived['Full Address'].apply(nom.geocode)"
   ]
  },
  {
   "cell_type": "code",
   "execution_count": 70,
   "metadata": {
    "collapsed": false
   },
   "outputs": [
    {
     "data": {
      "text/plain": [
       "pandas.core.series.Series"
      ]
     },
     "execution_count": 70,
     "metadata": {},
     "output_type": "execute_result"
    }
   ],
   "source": [
    "type(lived['Coordinates'])"
   ]
  },
  {
   "cell_type": "code",
   "execution_count": 71,
   "metadata": {
    "collapsed": false
   },
   "outputs": [
    {
     "data": {
      "text/plain": [
       "-27.9682803"
      ]
     },
     "execution_count": 71,
     "metadata": {},
     "output_type": "execute_result"
    }
   ],
   "source": [
    "lived['Coordinates'][2].latitude"
   ]
  },
  {
   "cell_type": "code",
   "execution_count": 73,
   "metadata": {
    "collapsed": false
   },
   "outputs": [
    {
     "data": {
      "text/html": [
       "<div>\n",
       "<style>\n",
       "    .dataframe thead tr:only-child th {\n",
       "        text-align: right;\n",
       "    }\n",
       "\n",
       "    .dataframe thead th {\n",
       "        text-align: left;\n",
       "    }\n",
       "\n",
       "    .dataframe tbody tr th {\n",
       "        vertical-align: top;\n",
       "    }\n",
       "</style>\n",
       "<table border=\"1\" class=\"dataframe\">\n",
       "  <thead>\n",
       "    <tr style=\"text-align: right;\">\n",
       "      <th></th>\n",
       "      <th>ID</th>\n",
       "      <th>Street</th>\n",
       "      <th>Suburb</th>\n",
       "      <th>Shire</th>\n",
       "      <th>Country</th>\n",
       "      <th>Full Address</th>\n",
       "      <th>Coordinates</th>\n",
       "      <th>Latitude</th>\n",
       "    </tr>\n",
       "  </thead>\n",
       "  <tbody>\n",
       "    <tr>\n",
       "      <th>0</th>\n",
       "      <td>1</td>\n",
       "      <td>McPhail Ave</td>\n",
       "      <td>Kingscliff</td>\n",
       "      <td>Tweed 2487</td>\n",
       "      <td>Australia</td>\n",
       "      <td>McPhail Ave, Kingscliff, Tweed 2487, Australia</td>\n",
       "      <td>(McPhail Avenue, Kingscliff, Tweed, NSW, 2487,...</td>\n",
       "      <td>-28.261829</td>\n",
       "    </tr>\n",
       "    <tr>\n",
       "      <th>1</th>\n",
       "      <td>2</td>\n",
       "      <td>Eviron Rd</td>\n",
       "      <td>Eviron</td>\n",
       "      <td>Tweed 2484</td>\n",
       "      <td>Australia</td>\n",
       "      <td>Eviron Rd, Eviron, Tweed 2484, Australia</td>\n",
       "      <td>(Eviron Road, Eviron, Nunderi, Tweed, NSW, 248...</td>\n",
       "      <td>-28.309435</td>\n",
       "    </tr>\n",
       "    <tr>\n",
       "      <th>2</th>\n",
       "      <td>3</td>\n",
       "      <td>Gilcrest Court</td>\n",
       "      <td>Molendinar</td>\n",
       "      <td>Gold Coast 4214</td>\n",
       "      <td>Australia</td>\n",
       "      <td>Gilcrest Court, Molendinar, Gold Coast 4214, A...</td>\n",
       "      <td>(Gilcrest Court, Molendinar, Gold Coast, Gold ...</td>\n",
       "      <td>-27.968280</td>\n",
       "    </tr>\n",
       "    <tr>\n",
       "      <th>3</th>\n",
       "      <td>4</td>\n",
       "      <td>Respall Way</td>\n",
       "      <td>Arundel</td>\n",
       "      <td>Gold Coast 4214</td>\n",
       "      <td>Australia</td>\n",
       "      <td>Respall Way, Arundel, Gold Coast 4214, Australia</td>\n",
       "      <td>(Respall Way, Arundel, Gold Coast, Gold Coast ...</td>\n",
       "      <td>-27.936830</td>\n",
       "    </tr>\n",
       "    <tr>\n",
       "      <th>4</th>\n",
       "      <td>5</td>\n",
       "      <td>Dellwood Circuit</td>\n",
       "      <td>Molendinar</td>\n",
       "      <td>Gold Coast 4214</td>\n",
       "      <td>Australia</td>\n",
       "      <td>Dellwood Circuit, Molendinar, Gold Coast 4214,...</td>\n",
       "      <td>(Dellwood Circuit, Molendinar, Gold Coast, Gol...</td>\n",
       "      <td>-27.972282</td>\n",
       "    </tr>\n",
       "  </tbody>\n",
       "</table>\n",
       "</div>"
      ],
      "text/plain": [
       "   ID            Street      Suburb            Shire    Country  \\\n",
       "0   1       McPhail Ave  Kingscliff       Tweed 2487  Australia   \n",
       "1   2         Eviron Rd      Eviron       Tweed 2484  Australia   \n",
       "2   3    Gilcrest Court  Molendinar  Gold Coast 4214  Australia   \n",
       "3   4       Respall Way     Arundel  Gold Coast 4214  Australia   \n",
       "4   5  Dellwood Circuit  Molendinar  Gold Coast 4214  Australia   \n",
       "\n",
       "                                        Full Address  \\\n",
       "0     McPhail Ave, Kingscliff, Tweed 2487, Australia   \n",
       "1           Eviron Rd, Eviron, Tweed 2484, Australia   \n",
       "2  Gilcrest Court, Molendinar, Gold Coast 4214, A...   \n",
       "3   Respall Way, Arundel, Gold Coast 4214, Australia   \n",
       "4  Dellwood Circuit, Molendinar, Gold Coast 4214,...   \n",
       "\n",
       "                                         Coordinates   Latitude  \n",
       "0  (McPhail Avenue, Kingscliff, Tweed, NSW, 2487,... -28.261829  \n",
       "1  (Eviron Road, Eviron, Nunderi, Tweed, NSW, 248... -28.309435  \n",
       "2  (Gilcrest Court, Molendinar, Gold Coast, Gold ... -27.968280  \n",
       "3  (Respall Way, Arundel, Gold Coast, Gold Coast ... -27.936830  \n",
       "4  (Dellwood Circuit, Molendinar, Gold Coast, Gol... -27.972282  "
      ]
     },
     "execution_count": 73,
     "metadata": {},
     "output_type": "execute_result"
    }
   ],
   "source": [
    "lived['Latitude'] = lived['Coordinates'].apply(lambda x: x.latitude)\n",
    "lived"
   ]
  },
  {
   "cell_type": "code",
   "execution_count": 75,
   "metadata": {
    "collapsed": false
   },
   "outputs": [
    {
     "data": {
      "text/html": [
       "<div>\n",
       "<style>\n",
       "    .dataframe thead tr:only-child th {\n",
       "        text-align: right;\n",
       "    }\n",
       "\n",
       "    .dataframe thead th {\n",
       "        text-align: left;\n",
       "    }\n",
       "\n",
       "    .dataframe tbody tr th {\n",
       "        vertical-align: top;\n",
       "    }\n",
       "</style>\n",
       "<table border=\"1\" class=\"dataframe\">\n",
       "  <thead>\n",
       "    <tr style=\"text-align: right;\">\n",
       "      <th></th>\n",
       "      <th>ID</th>\n",
       "      <th>Street</th>\n",
       "      <th>Suburb</th>\n",
       "      <th>Shire</th>\n",
       "      <th>Country</th>\n",
       "      <th>Full Address</th>\n",
       "      <th>Coordinates</th>\n",
       "      <th>Latitude</th>\n",
       "      <th>Longitude</th>\n",
       "    </tr>\n",
       "  </thead>\n",
       "  <tbody>\n",
       "    <tr>\n",
       "      <th>0</th>\n",
       "      <td>1</td>\n",
       "      <td>McPhail Ave</td>\n",
       "      <td>Kingscliff</td>\n",
       "      <td>Tweed 2487</td>\n",
       "      <td>Australia</td>\n",
       "      <td>McPhail Ave, Kingscliff, Tweed 2487, Australia</td>\n",
       "      <td>(McPhail Avenue, Kingscliff, Tweed, NSW, 2487,...</td>\n",
       "      <td>-28.261829</td>\n",
       "      <td>153.573679</td>\n",
       "    </tr>\n",
       "    <tr>\n",
       "      <th>1</th>\n",
       "      <td>2</td>\n",
       "      <td>Eviron Rd</td>\n",
       "      <td>Eviron</td>\n",
       "      <td>Tweed 2484</td>\n",
       "      <td>Australia</td>\n",
       "      <td>Eviron Rd, Eviron, Tweed 2484, Australia</td>\n",
       "      <td>(Eviron Road, Eviron, Nunderi, Tweed, NSW, 248...</td>\n",
       "      <td>-28.309435</td>\n",
       "      <td>153.455910</td>\n",
       "    </tr>\n",
       "    <tr>\n",
       "      <th>2</th>\n",
       "      <td>3</td>\n",
       "      <td>Gilcrest Court</td>\n",
       "      <td>Molendinar</td>\n",
       "      <td>Gold Coast 4214</td>\n",
       "      <td>Australia</td>\n",
       "      <td>Gilcrest Court, Molendinar, Gold Coast 4214, A...</td>\n",
       "      <td>(Gilcrest Court, Molendinar, Gold Coast, Gold ...</td>\n",
       "      <td>-27.968280</td>\n",
       "      <td>153.375329</td>\n",
       "    </tr>\n",
       "    <tr>\n",
       "      <th>3</th>\n",
       "      <td>4</td>\n",
       "      <td>Respall Way</td>\n",
       "      <td>Arundel</td>\n",
       "      <td>Gold Coast 4214</td>\n",
       "      <td>Australia</td>\n",
       "      <td>Respall Way, Arundel, Gold Coast 4214, Australia</td>\n",
       "      <td>(Respall Way, Arundel, Gold Coast, Gold Coast ...</td>\n",
       "      <td>-27.936830</td>\n",
       "      <td>153.354362</td>\n",
       "    </tr>\n",
       "    <tr>\n",
       "      <th>4</th>\n",
       "      <td>5</td>\n",
       "      <td>Dellwood Circuit</td>\n",
       "      <td>Molendinar</td>\n",
       "      <td>Gold Coast 4214</td>\n",
       "      <td>Australia</td>\n",
       "      <td>Dellwood Circuit, Molendinar, Gold Coast 4214,...</td>\n",
       "      <td>(Dellwood Circuit, Molendinar, Gold Coast, Gol...</td>\n",
       "      <td>-27.972282</td>\n",
       "      <td>153.374644</td>\n",
       "    </tr>\n",
       "  </tbody>\n",
       "</table>\n",
       "</div>"
      ],
      "text/plain": [
       "   ID            Street      Suburb            Shire    Country  \\\n",
       "0   1       McPhail Ave  Kingscliff       Tweed 2487  Australia   \n",
       "1   2         Eviron Rd      Eviron       Tweed 2484  Australia   \n",
       "2   3    Gilcrest Court  Molendinar  Gold Coast 4214  Australia   \n",
       "3   4       Respall Way     Arundel  Gold Coast 4214  Australia   \n",
       "4   5  Dellwood Circuit  Molendinar  Gold Coast 4214  Australia   \n",
       "\n",
       "                                        Full Address  \\\n",
       "0     McPhail Ave, Kingscliff, Tweed 2487, Australia   \n",
       "1           Eviron Rd, Eviron, Tweed 2484, Australia   \n",
       "2  Gilcrest Court, Molendinar, Gold Coast 4214, A...   \n",
       "3   Respall Way, Arundel, Gold Coast 4214, Australia   \n",
       "4  Dellwood Circuit, Molendinar, Gold Coast 4214,...   \n",
       "\n",
       "                                         Coordinates   Latitude   Longitude  \n",
       "0  (McPhail Avenue, Kingscliff, Tweed, NSW, 2487,... -28.261829  153.573679  \n",
       "1  (Eviron Road, Eviron, Nunderi, Tweed, NSW, 248... -28.309435  153.455910  \n",
       "2  (Gilcrest Court, Molendinar, Gold Coast, Gold ... -27.968280  153.375329  \n",
       "3  (Respall Way, Arundel, Gold Coast, Gold Coast ... -27.936830  153.354362  \n",
       "4  (Dellwood Circuit, Molendinar, Gold Coast, Gol... -27.972282  153.374644  "
      ]
     },
     "execution_count": 75,
     "metadata": {},
     "output_type": "execute_result"
    }
   ],
   "source": [
    "lived['Longitude'] = lived['Coordinates'].apply(lambda x: x.longitude)\n",
    "lived"
   ]
  },
  {
   "cell_type": "code",
   "execution_count": 76,
   "metadata": {
    "collapsed": false
   },
   "outputs": [
    {
     "data": {
      "text/html": [
       "<div>\n",
       "<style>\n",
       "    .dataframe thead tr:only-child th {\n",
       "        text-align: right;\n",
       "    }\n",
       "\n",
       "    .dataframe thead th {\n",
       "        text-align: left;\n",
       "    }\n",
       "\n",
       "    .dataframe tbody tr th {\n",
       "        vertical-align: top;\n",
       "    }\n",
       "</style>\n",
       "<table border=\"1\" class=\"dataframe\">\n",
       "  <thead>\n",
       "    <tr style=\"text-align: right;\">\n",
       "      <th></th>\n",
       "      <th>ID</th>\n",
       "      <th>Street</th>\n",
       "      <th>Suburb</th>\n",
       "      <th>Shire</th>\n",
       "      <th>Country</th>\n",
       "      <th>Full Address</th>\n",
       "      <th>Latitude</th>\n",
       "      <th>Longitude</th>\n",
       "    </tr>\n",
       "  </thead>\n",
       "  <tbody>\n",
       "    <tr>\n",
       "      <th>0</th>\n",
       "      <td>1</td>\n",
       "      <td>McPhail Ave</td>\n",
       "      <td>Kingscliff</td>\n",
       "      <td>Tweed 2487</td>\n",
       "      <td>Australia</td>\n",
       "      <td>McPhail Ave, Kingscliff, Tweed 2487, Australia</td>\n",
       "      <td>-28.261829</td>\n",
       "      <td>153.573679</td>\n",
       "    </tr>\n",
       "    <tr>\n",
       "      <th>1</th>\n",
       "      <td>2</td>\n",
       "      <td>Eviron Rd</td>\n",
       "      <td>Eviron</td>\n",
       "      <td>Tweed 2484</td>\n",
       "      <td>Australia</td>\n",
       "      <td>Eviron Rd, Eviron, Tweed 2484, Australia</td>\n",
       "      <td>-28.309435</td>\n",
       "      <td>153.455910</td>\n",
       "    </tr>\n",
       "    <tr>\n",
       "      <th>2</th>\n",
       "      <td>3</td>\n",
       "      <td>Gilcrest Court</td>\n",
       "      <td>Molendinar</td>\n",
       "      <td>Gold Coast 4214</td>\n",
       "      <td>Australia</td>\n",
       "      <td>Gilcrest Court, Molendinar, Gold Coast 4214, A...</td>\n",
       "      <td>-27.968280</td>\n",
       "      <td>153.375329</td>\n",
       "    </tr>\n",
       "    <tr>\n",
       "      <th>3</th>\n",
       "      <td>4</td>\n",
       "      <td>Respall Way</td>\n",
       "      <td>Arundel</td>\n",
       "      <td>Gold Coast 4214</td>\n",
       "      <td>Australia</td>\n",
       "      <td>Respall Way, Arundel, Gold Coast 4214, Australia</td>\n",
       "      <td>-27.936830</td>\n",
       "      <td>153.354362</td>\n",
       "    </tr>\n",
       "    <tr>\n",
       "      <th>4</th>\n",
       "      <td>5</td>\n",
       "      <td>Dellwood Circuit</td>\n",
       "      <td>Molendinar</td>\n",
       "      <td>Gold Coast 4214</td>\n",
       "      <td>Australia</td>\n",
       "      <td>Dellwood Circuit, Molendinar, Gold Coast 4214,...</td>\n",
       "      <td>-27.972282</td>\n",
       "      <td>153.374644</td>\n",
       "    </tr>\n",
       "  </tbody>\n",
       "</table>\n",
       "</div>"
      ],
      "text/plain": [
       "   ID            Street      Suburb            Shire    Country  \\\n",
       "0   1       McPhail Ave  Kingscliff       Tweed 2487  Australia   \n",
       "1   2         Eviron Rd      Eviron       Tweed 2484  Australia   \n",
       "2   3    Gilcrest Court  Molendinar  Gold Coast 4214  Australia   \n",
       "3   4       Respall Way     Arundel  Gold Coast 4214  Australia   \n",
       "4   5  Dellwood Circuit  Molendinar  Gold Coast 4214  Australia   \n",
       "\n",
       "                                        Full Address   Latitude   Longitude  \n",
       "0     McPhail Ave, Kingscliff, Tweed 2487, Australia -28.261829  153.573679  \n",
       "1           Eviron Rd, Eviron, Tweed 2484, Australia -28.309435  153.455910  \n",
       "2  Gilcrest Court, Molendinar, Gold Coast 4214, A... -27.968280  153.375329  \n",
       "3   Respall Way, Arundel, Gold Coast 4214, Australia -27.936830  153.354362  \n",
       "4  Dellwood Circuit, Molendinar, Gold Coast 4214,... -27.972282  153.374644  "
      ]
     },
     "execution_count": 76,
     "metadata": {},
     "output_type": "execute_result"
    }
   ],
   "source": [
    "del lived['Coordinates']\n",
    "lived"
   ]
  },
  {
   "cell_type": "code",
   "execution_count": null,
   "metadata": {
    "collapsed": true
   },
   "outputs": [],
   "source": []
  }
 ],
 "metadata": {
  "kernelspec": {
   "display_name": "Python 3",
   "language": "python",
   "name": "python3"
  },
  "language_info": {
   "codemirror_mode": {
    "name": "ipython",
    "version": 3
   },
   "file_extension": ".py",
   "mimetype": "text/x-python",
   "name": "python",
   "nbconvert_exporter": "python",
   "pygments_lexer": "ipython3",
   "version": "3.6.0"
  }
 },
 "nbformat": 4,
 "nbformat_minor": 2
}
